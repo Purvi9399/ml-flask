{
  "nbformat": 4,
  "nbformat_minor": 0,
  "metadata": {
    "kernelspec": {
      "display_name": "Python 3",
      "language": "python",
      "name": "python3"
    },
    "language_info": {
      "codemirror_mode": {
        "name": "ipython",
        "version": 3
      },
      "file_extension": ".py",
      "mimetype": "text/x-python",
      "name": "python",
      "nbconvert_exporter": "python",
      "pygments_lexer": "ipython3",
      "version": "3.7.6"
    },
    "colab": {
      "name": "feature engg+model evaluation",
      "provenance": []
    }
  },
  "cells": [
    {
      "cell_type": "code",
      "metadata": {
        "id": "mOO92Gzb6M1G",
        "colab_type": "code",
        "colab": {}
      },
      "source": [
        "import pandas as pd\n",
        "import numpy as np"
      ],
      "execution_count": null,
      "outputs": []
    },
    {
      "cell_type": "code",
      "metadata": {
        "id": "GZHPRUsN6M1L",
        "colab_type": "code",
        "colab": {
          "base_uri": "https://localhost:8080/",
          "height": 197
        },
        "outputId": "9315cb5a-932e-49df-d969-4274a0f73d1a"
      },
      "source": [
        "ds=pd.read_csv(\"http://iali.in/datasets/Social_Network_Ads.csv\")\n",
        "ds.head()"
      ],
      "execution_count": null,
      "outputs": [
        {
          "output_type": "execute_result",
          "data": {
            "text/html": [
              "<div>\n",
              "<style scoped>\n",
              "    .dataframe tbody tr th:only-of-type {\n",
              "        vertical-align: middle;\n",
              "    }\n",
              "\n",
              "    .dataframe tbody tr th {\n",
              "        vertical-align: top;\n",
              "    }\n",
              "\n",
              "    .dataframe thead th {\n",
              "        text-align: right;\n",
              "    }\n",
              "</style>\n",
              "<table border=\"1\" class=\"dataframe\">\n",
              "  <thead>\n",
              "    <tr style=\"text-align: right;\">\n",
              "      <th></th>\n",
              "      <th>User ID</th>\n",
              "      <th>Gender</th>\n",
              "      <th>Age</th>\n",
              "      <th>EstimatedSalary</th>\n",
              "      <th>Purchased</th>\n",
              "    </tr>\n",
              "  </thead>\n",
              "  <tbody>\n",
              "    <tr>\n",
              "      <th>0</th>\n",
              "      <td>15624510</td>\n",
              "      <td>Male</td>\n",
              "      <td>19</td>\n",
              "      <td>19000</td>\n",
              "      <td>0</td>\n",
              "    </tr>\n",
              "    <tr>\n",
              "      <th>1</th>\n",
              "      <td>15810944</td>\n",
              "      <td>Male</td>\n",
              "      <td>35</td>\n",
              "      <td>20000</td>\n",
              "      <td>0</td>\n",
              "    </tr>\n",
              "    <tr>\n",
              "      <th>2</th>\n",
              "      <td>15668575</td>\n",
              "      <td>Female</td>\n",
              "      <td>26</td>\n",
              "      <td>43000</td>\n",
              "      <td>0</td>\n",
              "    </tr>\n",
              "    <tr>\n",
              "      <th>3</th>\n",
              "      <td>15603246</td>\n",
              "      <td>Female</td>\n",
              "      <td>27</td>\n",
              "      <td>57000</td>\n",
              "      <td>0</td>\n",
              "    </tr>\n",
              "    <tr>\n",
              "      <th>4</th>\n",
              "      <td>15804002</td>\n",
              "      <td>Male</td>\n",
              "      <td>19</td>\n",
              "      <td>76000</td>\n",
              "      <td>0</td>\n",
              "    </tr>\n",
              "  </tbody>\n",
              "</table>\n",
              "</div>"
            ],
            "text/plain": [
              "    User ID  Gender  Age  EstimatedSalary  Purchased\n",
              "0  15624510    Male   19            19000          0\n",
              "1  15810944    Male   35            20000          0\n",
              "2  15668575  Female   26            43000          0\n",
              "3  15603246  Female   27            57000          0\n",
              "4  15804002    Male   19            76000          0"
            ]
          },
          "metadata": {
            "tags": []
          },
          "execution_count": 93
        }
      ]
    },
    {
      "cell_type": "code",
      "metadata": {
        "id": "J7ZMo-uq6M1O",
        "colab_type": "code",
        "colab": {
          "base_uri": "https://localhost:8080/",
          "height": 34
        },
        "outputId": "b23cd63c-abd6-4f6e-9ca9-1e22a64ef621"
      },
      "source": [
        "ds['Purchased'].unique()"
      ],
      "execution_count": null,
      "outputs": [
        {
          "output_type": "execute_result",
          "data": {
            "text/plain": [
              "array([0, 1])"
            ]
          },
          "metadata": {
            "tags": []
          },
          "execution_count": 94
        }
      ]
    },
    {
      "cell_type": "markdown",
      "metadata": {
        "id": "BG7CYNQ96M1R",
        "colab_type": "text"
      },
      "source": [
        "# Classification Problem\n",
        "### \"Purchased\" column has ony 2 unique values, so it is Binary Classification problem"
      ]
    },
    {
      "cell_type": "code",
      "metadata": {
        "id": "b0-_whVd6M1S",
        "colab_type": "code",
        "colab": {
          "base_uri": "https://localhost:8080/",
          "height": 123
        },
        "outputId": "0888a49b-b6b5-4867-a416-43698e404a2a"
      },
      "source": [
        "ds.isnull().any()"
      ],
      "execution_count": null,
      "outputs": [
        {
          "output_type": "execute_result",
          "data": {
            "text/plain": [
              "User ID            False\n",
              "Gender             False\n",
              "Age                False\n",
              "EstimatedSalary    False\n",
              "Purchased          False\n",
              "dtype: bool"
            ]
          },
          "metadata": {
            "tags": []
          },
          "execution_count": 95
        }
      ]
    },
    {
      "cell_type": "code",
      "metadata": {
        "id": "K11-C4c_6M1U",
        "colab_type": "code",
        "colab": {}
      },
      "source": [
        "# Label Encoding\n",
        "from sklearn.preprocessing import LabelEncoder\n",
        "le=LabelEncoder()\n",
        "\n",
        "#transforming non numerical labels to numeric labels\n",
        "ds['Gender']=le.fit_transform(ds['Gender'])"
      ],
      "execution_count": null,
      "outputs": []
    },
    {
      "cell_type": "code",
      "metadata": {
        "id": "4lLp5Yk_6M1W",
        "colab_type": "code",
        "colab": {
          "base_uri": "https://localhost:8080/",
          "height": 197
        },
        "outputId": "3258a979-3976-459f-b390-ca105784ba9c"
      },
      "source": [
        "ds.head()"
      ],
      "execution_count": null,
      "outputs": [
        {
          "output_type": "execute_result",
          "data": {
            "text/html": [
              "<div>\n",
              "<style scoped>\n",
              "    .dataframe tbody tr th:only-of-type {\n",
              "        vertical-align: middle;\n",
              "    }\n",
              "\n",
              "    .dataframe tbody tr th {\n",
              "        vertical-align: top;\n",
              "    }\n",
              "\n",
              "    .dataframe thead th {\n",
              "        text-align: right;\n",
              "    }\n",
              "</style>\n",
              "<table border=\"1\" class=\"dataframe\">\n",
              "  <thead>\n",
              "    <tr style=\"text-align: right;\">\n",
              "      <th></th>\n",
              "      <th>User ID</th>\n",
              "      <th>Gender</th>\n",
              "      <th>Age</th>\n",
              "      <th>EstimatedSalary</th>\n",
              "      <th>Purchased</th>\n",
              "    </tr>\n",
              "  </thead>\n",
              "  <tbody>\n",
              "    <tr>\n",
              "      <th>0</th>\n",
              "      <td>15624510</td>\n",
              "      <td>1</td>\n",
              "      <td>19</td>\n",
              "      <td>19000</td>\n",
              "      <td>0</td>\n",
              "    </tr>\n",
              "    <tr>\n",
              "      <th>1</th>\n",
              "      <td>15810944</td>\n",
              "      <td>1</td>\n",
              "      <td>35</td>\n",
              "      <td>20000</td>\n",
              "      <td>0</td>\n",
              "    </tr>\n",
              "    <tr>\n",
              "      <th>2</th>\n",
              "      <td>15668575</td>\n",
              "      <td>0</td>\n",
              "      <td>26</td>\n",
              "      <td>43000</td>\n",
              "      <td>0</td>\n",
              "    </tr>\n",
              "    <tr>\n",
              "      <th>3</th>\n",
              "      <td>15603246</td>\n",
              "      <td>0</td>\n",
              "      <td>27</td>\n",
              "      <td>57000</td>\n",
              "      <td>0</td>\n",
              "    </tr>\n",
              "    <tr>\n",
              "      <th>4</th>\n",
              "      <td>15804002</td>\n",
              "      <td>1</td>\n",
              "      <td>19</td>\n",
              "      <td>76000</td>\n",
              "      <td>0</td>\n",
              "    </tr>\n",
              "  </tbody>\n",
              "</table>\n",
              "</div>"
            ],
            "text/plain": [
              "    User ID  Gender  Age  EstimatedSalary  Purchased\n",
              "0  15624510       1   19            19000          0\n",
              "1  15810944       1   35            20000          0\n",
              "2  15668575       0   26            43000          0\n",
              "3  15603246       0   27            57000          0\n",
              "4  15804002       1   19            76000          0"
            ]
          },
          "metadata": {
            "tags": []
          },
          "execution_count": 97
        }
      ]
    },
    {
      "cell_type": "code",
      "metadata": {
        "id": "L0RyCH_X6M1a",
        "colab_type": "code",
        "colab": {
          "base_uri": "https://localhost:8080/",
          "height": 34
        },
        "outputId": "d483a1c3-db60-4e6c-97a8-57fa506984fa"
      },
      "source": [
        "ds['Gender'].unique()\n",
        "# Only two unique values, so need of One Hot Encoding\n",
        "# one hot encoding is a representation of categorical variables as binary vectors."
      ],
      "execution_count": null,
      "outputs": [
        {
          "output_type": "execute_result",
          "data": {
            "text/plain": [
              "array([1, 0])"
            ]
          },
          "metadata": {
            "tags": []
          },
          "execution_count": 98
        }
      ]
    },
    {
      "cell_type": "code",
      "metadata": {
        "id": "xMl__5S96M1d",
        "colab_type": "code",
        "colab": {}
      },
      "source": [
        "#we are seperating x and y values using iloc[]\n",
        "x=ds.iloc[:,1:4].values\n",
        "y=ds.iloc[:,4].values"
      ],
      "execution_count": null,
      "outputs": []
    },
    {
      "cell_type": "code",
      "metadata": {
        "id": "2JMYT6nF6M1g",
        "colab_type": "code",
        "colab": {
          "base_uri": "https://localhost:8080/",
          "height": 34
        },
        "outputId": "9446d184-ef2c-4ecf-9247-554085021ed1"
      },
      "source": [
        "x.shape"
      ],
      "execution_count": null,
      "outputs": [
        {
          "output_type": "execute_result",
          "data": {
            "text/plain": [
              "(400, 3)"
            ]
          },
          "metadata": {
            "tags": []
          },
          "execution_count": 100
        }
      ]
    },
    {
      "cell_type": "code",
      "metadata": {
        "id": "9oTk_VNH6M1i",
        "colab_type": "code",
        "colab": {
          "base_uri": "https://localhost:8080/",
          "height": 34
        },
        "outputId": "3b9a30dc-2927-4065-e147-be68886b0590"
      },
      "source": [
        "# Splitting the data\n",
        "from sklearn.model_selection import train_test_split\n",
        "x_train,x_test,y_train,y_test=train_test_split(x,y,test_size=0.2)\n",
        "x_train.shape"
      ],
      "execution_count": null,
      "outputs": [
        {
          "output_type": "execute_result",
          "data": {
            "text/plain": [
              "(320, 3)"
            ]
          },
          "metadata": {
            "tags": []
          },
          "execution_count": 101
        }
      ]
    },
    {
      "cell_type": "markdown",
      "metadata": {
        "id": "hn3d9alwMkXC",
        "colab_type": "text"
      },
      "source": [
        "## StandardScaler \n",
        "\n",
        " It transforms the data in such a manner that it has mean as 0 and standard deviation as 1. In short, it standardizes the data. Standardization is useful for data which has negative values. It arranges the data in a standard normal distribution."
      ]
    },
    {
      "cell_type": "markdown",
      "metadata": {
        "id": "Kap4QZ78v53Q",
        "colab_type": "text"
      },
      "source": [
        "## let's verify this with an example;"
      ]
    },
    {
      "cell_type": "code",
      "metadata": {
        "id": "1Mizh2eXp0N7",
        "colab_type": "code",
        "colab": {}
      },
      "source": [
        "from sklearn.preprocessing import StandardScaler\n",
        "import numpy as np\n",
        "\n",
        "# 4 samples/observations and 2 variables/features\n",
        "#data = \n",
        "#scaler =\n",
        "#scaled_data =\n",
        "\n",
        "#print(data)\n",
        "#print(scaled_data)"
      ],
      "execution_count": null,
      "outputs": []
    },
    {
      "cell_type": "code",
      "metadata": {
        "id": "7XWHanafrp7N",
        "colab_type": "code",
        "colab": {}
      },
      "source": [
        "#Verify that the mean of each feature (column) is 0:\n"
      ],
      "execution_count": null,
      "outputs": []
    },
    {
      "cell_type": "code",
      "metadata": {
        "id": "Un0rRcukrxvs",
        "colab_type": "code",
        "colab": {}
      },
      "source": [
        "#Verify that the std of each feature (column) is 1:\n"
      ],
      "execution_count": null,
      "outputs": []
    },
    {
      "cell_type": "code",
      "metadata": {
        "id": "HEVT7n3_6M1k",
        "colab_type": "code",
        "colab": {}
      },
      "source": [
        "# Feature Scaling\n",
        "from sklearn.preprocessing import StandardScaler\n",
        "sc=StandardScaler()\n",
        "x_train=sc.fit_transform(x_train)\n",
        "x_test=sc.fit_transform(x_test)"
      ],
      "execution_count": null,
      "outputs": []
    },
    {
      "cell_type": "code",
      "metadata": {
        "id": "wH8GoFXb6M1m",
        "colab_type": "code",
        "colab": {
          "base_uri": "https://localhost:8080/",
          "height": 123
        },
        "outputId": "e4177e00-0921-4127-dd40-5d60b71c56cf"
      },
      "source": [
        "# Training the model using Decision Tree Classifier\n",
        "from sklearn.tree import DecisionTreeClassifier\n",
        "dtc=DecisionTreeClassifier(criterion='entropy',random_state=0)\n",
        "dtc.fit(x_train,y_train)"
      ],
      "execution_count": null,
      "outputs": [
        {
          "output_type": "execute_result",
          "data": {
            "text/plain": [
              "DecisionTreeClassifier(ccp_alpha=0.0, class_weight=None, criterion='entropy',\n",
              "                       max_depth=None, max_features=None, max_leaf_nodes=None,\n",
              "                       min_impurity_decrease=0.0, min_impurity_split=None,\n",
              "                       min_samples_leaf=1, min_samples_split=2,\n",
              "                       min_weight_fraction_leaf=0.0, presort='deprecated',\n",
              "                       random_state=0, splitter='best')"
            ]
          },
          "metadata": {
            "tags": []
          },
          "execution_count": 106
        }
      ]
    },
    {
      "cell_type": "code",
      "metadata": {
        "id": "IWHh21i06M1o",
        "colab_type": "code",
        "colab": {}
      },
      "source": [
        "y_pred=dtc.predict(x_test)"
      ],
      "execution_count": null,
      "outputs": []
    },
    {
      "cell_type": "code",
      "metadata": {
        "id": "ERxfMfMF6M1v",
        "colab_type": "code",
        "colab": {
          "base_uri": "https://localhost:8080/",
          "height": 34
        },
        "outputId": "686fb994-978c-4006-f097-a4af72418f5c"
      },
      "source": [
        "# Getting the Accuracy Score\n",
        "from sklearn.metrics import accuracy_score\n",
        "accuracy_score(y_test,y_pred)"
      ],
      "execution_count": null,
      "outputs": [
        {
          "output_type": "execute_result",
          "data": {
            "text/plain": [
              "0.8875"
            ]
          },
          "metadata": {
            "tags": []
          },
          "execution_count": 108
        }
      ]
    },
    {
      "cell_type": "code",
      "metadata": {
        "id": "hV-Mangp6M1x",
        "colab_type": "code",
        "colab": {
          "base_uri": "https://localhost:8080/",
          "height": 482
        },
        "outputId": "2cd8f4aa-96fb-489c-d82f-a29bcd00cfab"
      },
      "source": [
        "labels = [\"Not Purchased\", \"Purhased\"]\n",
        "# Confusion Matrix\n",
        "from sklearn.metrics import confusion_matrix\n",
        "import seaborn as sns\n",
        "import matplotlib.pyplot as plt\n",
        "\n",
        "\n",
        "df_cm = pd.DataFrame(confusion_matrix(y_test,y_pred), columns=labels, index= labels)\n",
        "df_cm.index.name ='Predicted'\n",
        "df_cm.columns.name = 'Actual'\n",
        "plt.figure(figsize = (10,7))\n",
        "sns.set(font_scale=1.4)#for label size\n",
        "sns.heatmap(df_cm, cmap=\"Wistia\", annot=True,annot_kws={\"size\": 17})"
      ],
      "execution_count": null,
      "outputs": [
        {
          "output_type": "execute_result",
          "data": {
            "text/plain": [
              "<matplotlib.axes._subplots.AxesSubplot at 0x7f34c73b9588>"
            ]
          },
          "metadata": {
            "tags": []
          },
          "execution_count": 109
        },
        {
          "output_type": "display_data",
          "data": {
            "image/png": "[encoded data removed]",
            "text/plain": [
              "<Figure size 720x504 with 2 Axes>"
            ]
          },
          "metadata": {
            "tags": []
          }
        }
      ]
    },
    {
      "cell_type": "markdown",
      "metadata": {
        "id": "Lqzq8xhfNAtX",
        "colab_type": "text"
      },
      "source": [
        "## ROC Curve\n",
        "Receiver Operating Characteristic curve. It is nothing but a graph displaying the performance of a classification model. It is a very popular method to measure the accuracy of a classification model.\n",
        "\n",
        "**(Note: this implementation is restricted to the binary classification task.)"
      ]
    },
    {
      "cell_type": "markdown",
      "metadata": {
        "id": "AkLDmstNPc60",
        "colab_type": "text"
      },
      "source": [
        "The ROC curve is created by plotting the true positive rate (TPR) against the false positive rate (FPR) at various threshold settings."
      ]
    },
    {
      "cell_type": "code",
      "metadata": {
        "id": "jn3dhMJx6M1z",
        "colab_type": "code",
        "colab": {}
      },
      "source": [
        "# Getting the roc\n",
        "import sklearn.metrics as metrics   # to measure classification performance.\n",
        "fpr,tpr,threshold=metrics.roc_curve(y_test,y_pred)\n",
        "roc_auc=metrics.auc(fpr,tpr)"
      ],
      "execution_count": null,
      "outputs": []
    },
    {
      "cell_type": "code",
      "metadata": {
        "id": "7otPoBU76M11",
        "colab_type": "code",
        "colab": {
          "base_uri": "https://localhost:8080/",
          "height": 332
        },
        "outputId": "76467c73-9d99-49b7-b130-a71c2c2b88cf"
      },
      "source": [
        "# Plotting the roc-auc curve\n",
        "import matplotlib.pyplot as plt\n",
        "plt.title(\"roc\")\n",
        "plt.plot(fpr,tpr,'b',label=\"auc=%0.2f\"%roc_auc)\n",
        "plt.legend(loc=\"lower right\") #automatically creates a legend for labeled plot elements\n",
        "plt.plot([0,1],[0,1],\"r--\")\n",
        "plt.xlim([0,1])  #Get or set the x limits of the current axes.\n",
        "plt.ylim([0,1])  #Get or set the y limits of the current axes.\n",
        "plt.ylabel(\"tpr\")\n",
        "plt.xlabel(\"fpr\")"
      ],
      "execution_count": null,
      "outputs": [
        {
          "output_type": "execute_result",
          "data": {
            "text/plain": [
              "Text(0.5, 0, 'fpr')"
            ]
          },
          "metadata": {
            "tags": []
          },
          "execution_count": 111
        },
        {
          "output_type": "display_data",
          "data": {
            "image/png": "[encoded data removed]",
            "text/plain": [
              "<Figure size 432x288 with 1 Axes>"
            ]
          },
          "metadata": {
            "tags": []
          }
        }
      ]
    },
    {
      "cell_type": "code",
      "metadata": {
        "id": "_r2SsLqe6M13",
        "colab_type": "code",
        "colab": {
          "base_uri": "https://localhost:8080/",
          "height": 34
        },
        "outputId": "4ef54fe9-6492-430a-bf57-4d1fb53bd353"
      },
      "source": [
        "# Prediction for demo data \n",
        "dtc.predict(sc.fit_transform([[1,34,1900]]))"
      ],
      "execution_count": null,
      "outputs": [
        {
          "output_type": "execute_result",
          "data": {
            "text/plain": [
              "array([1])"
            ]
          },
          "metadata": {
            "tags": []
          },
          "execution_count": 112
        }
      ]
    },
    {
      "cell_type": "code",
      "metadata": {
        "id": "DWa0pVBq6tiO",
        "colab_type": "code",
        "colab": {}
      },
      "source": [
        "#RandomForest\n",
        "from sklearn.ensemble.forest import RandomForestClassifier\n",
        "from sklearn.preprocessing import StandardScaler\n",
        "from sklearn.metrics import fbeta_score, make_scorer # make_scorer takes a score function, and returns a callable that scores a classifier's output.\n",
        "#F-beta score is for the positive class in binary classification\n",
        "from sklearn.model_selection import GridSearchCV\n",
        "\n",
        "model = RandomForestClassifier()"
      ],
      "execution_count": null,
      "outputs": []
    },
    {
      "cell_type": "markdown",
      "metadata": {
        "id": "6jVORm9rBYBq",
        "colab_type": "text"
      },
      "source": [
        "# optimised model\n",
        "\n",
        "**Our optimized Random Forest model is:**\n",
        "\n",
        "```\n",
        "RandomForestClassifier(bootstrap=True, ccp_alpha=0.0, class_weight=None,\n",
        "                       criterion='gini', max_depth=5, max_features='auto',\n",
        "                       max_leaf_nodes=None, max_samples=None,\n",
        "                       min_impurity_decrease=0.0, min_impurity_split=None,\n",
        "                       min_samples_leaf=8, min_samples_split=3,\n",
        "                       min_weight_fraction_leaf=0.0, n_estimators=4,\n",
        "                       n_jobs=None, oob_score=False, random_state=None,\n",
        "                       verbose=0, warm_start=False)\n",
        "```\n",
        "\n",
        "\n"
      ]
    },
    {
      "cell_type": "code",
      "metadata": {
        "id": "paYlvHYsBUV8",
        "colab_type": "code",
        "colab": {}
      },
      "source": [
        "# ftwo_scorer = make_scorer(fbeta_score, beta=2)\n",
        "# parameters = {\"n_estimators\": [4, 5, 6, 7, 8, 9, 10, 15], \n",
        "#               \"criterion\": [\"gini\", \"entropy\"],\n",
        "#               \"max_features\": [\"auto\", \"sqrt\", \"log2\"], \n",
        "#               \"max_depth\": [2, 3, 5, 10], \n",
        "#               \"min_samples_split\": [2, 3, 5, 10],\n",
        "#               \"min_samples_leaf\": [1, 5, 8, 10]\n",
        "#              }\n",
        "# grid_cv = GridSearchCV(model, parameters, scoring = ftwo_scorer)\n",
        "# grid_cv = grid_cv.fit(x_train, y_train)\n",
        "\n",
        "# print(\"Our optimized Random Forest model is:\")\n",
        "# grid_cv.best_estimator_\n",
        "\n",
        "\n"
      ],
      "execution_count": null,
      "outputs": []
    },
    {
      "cell_type": "code",
      "metadata": {
        "id": "wA28U2Aq9EK2",
        "colab_type": "code",
        "colab": {}
      },
      "source": [
        "sc = StandardScaler()\n",
        "x_train = sc.fit_transform(x_train)\n",
        "x_test = sc.transform(x_test)\n",
        "#model = grid_cv.best_estimator_  (#uncomment this if you want to run the above cell & comment the below code)\n",
        "model = RandomForestClassifier(bootstrap=True, ccp_alpha=0.0, class_weight=None,\n",
        "                       criterion='gini', max_depth=5, max_features='auto',\n",
        "                       max_leaf_nodes=None, max_samples=None,\n",
        "                       min_impurity_decrease=0.0, min_impurity_split=None,\n",
        "                       min_samples_leaf=8, min_samples_split=3,\n",
        "                       min_weight_fraction_leaf=0.0, n_estimators=4,\n",
        "                       n_jobs=None, oob_score=False, random_state=None,\n",
        "                       verbose=0, warm_start=False)\n"
      ],
      "execution_count": null,
      "outputs": []
    },
    {
      "cell_type": "code",
      "metadata": {
        "id": "cU_mnt3FRCb7",
        "colab_type": "code",
        "colab": {
          "base_uri": "https://localhost:8080/",
          "height": 158
        },
        "outputId": "2502583c-57e4-4c39-a2f6-da427b84f382"
      },
      "source": [
        "model.fit(x_train, y_train)"
      ],
      "execution_count": null,
      "outputs": [
        {
          "output_type": "execute_result",
          "data": {
            "text/plain": [
              "RandomForestClassifier(bootstrap=True, ccp_alpha=0.0, class_weight=None,\n",
              "                       criterion='gini', max_depth=5, max_features='auto',\n",
              "                       max_leaf_nodes=None, max_samples=None,\n",
              "                       min_impurity_decrease=0.0, min_impurity_split=None,\n",
              "                       min_samples_leaf=8, min_samples_split=3,\n",
              "                       min_weight_fraction_leaf=0.0, n_estimators=4,\n",
              "                       n_jobs=None, oob_score=False, random_state=None,\n",
              "                       verbose=0, warm_start=False)"
            ]
          },
          "metadata": {
            "tags": []
          },
          "execution_count": 116
        }
      ]
    },
    {
      "cell_type": "code",
      "metadata": {
        "id": "t-T4M-0cRsae",
        "colab_type": "code",
        "colab": {}
      },
      "source": [
        "y_pred = model.predict(x_test)"
      ],
      "execution_count": null,
      "outputs": []
    },
    {
      "cell_type": "code",
      "metadata": {
        "id": "X9tF8iE59OvV",
        "colab_type": "code",
        "colab": {
          "base_uri": "https://localhost:8080/",
          "height": 176
        },
        "outputId": "9b5cec8e-f520-4c1b-e732-f10060ab74a4"
      },
      "source": [
        "# Conclude that 0 is Not Purchased and 1 is vice versa\n",
        "from sklearn.metrics import confusion_matrix, accuracy_score, classification_report\n",
        "\n",
        "labels = [\"Not Purchased\", \"Purhased\"]\n",
        "\n",
        "y_pred=model.predict(x_test)\n",
        "report = classification_report(y_test, y_pred, target_names=labels)\n",
        "print(report)"
      ],
      "execution_count": null,
      "outputs": [
        {
          "output_type": "stream",
          "text": [
            "               precision    recall  f1-score   support\n",
            "\n",
            "Not Purchased       0.88      0.94      0.91        49\n",
            "     Purhased       0.89      0.81      0.85        31\n",
            "\n",
            "     accuracy                           0.89        80\n",
            "    macro avg       0.89      0.87      0.88        80\n",
            " weighted avg       0.89      0.89      0.89        80\n",
            "\n"
          ],
          "name": "stdout"
        }
      ]
    },
    {
      "cell_type": "markdown",
      "metadata": {
        "id": "gnGR9xJyaw4-",
        "colab_type": "text"
      },
      "source": [
        "Note:\n",
        "\n",
        "`'macro':`\n",
        "\n",
        "Calculate metrics for each label, and find their unweighted mean. This does not take label imbalance into account.\n",
        "\n",
        "`'weighted'`:\n",
        "'weighted':\n",
        "Calculate metrics for each label, and find their average weighted by support (the number of true instances for each label). This alters ‘macro’ to account for label imbalance; it can result in an F-score that is not between precision and recall."
      ]
    },
    {
      "cell_type": "code",
      "metadata": {
        "id": "ZZvoCfwY9IHn",
        "colab_type": "code",
        "colab": {
          "base_uri": "https://localhost:8080/",
          "height": 475
        },
        "outputId": "b847b3b9-09ba-4489-f512-55957fd2e664"
      },
      "source": [
        "import seaborn as sns\n",
        "import matplotlib.pyplot as plt\n",
        "\n",
        "\n",
        "df_cm = pd.DataFrame(confusion_matrix(y_test,y_pred), columns=labels, index= labels)\n",
        "df_cm.index.name = 'Actual'\n",
        "df_cm.columns.name = 'Predicted'\n",
        "plt.figure(figsize = (10,7))\n",
        "sns.set(font_scale=1.4)#for label size\n",
        "sns.heatmap(df_cm, cmap=\"Wistia\", annot=True,annot_kws={\"size\": 17})"
      ],
      "execution_count": null,
      "outputs": [
        {
          "output_type": "execute_result",
          "data": {
            "text/plain": [
              "<matplotlib.axes._subplots.AxesSubplot at 0x7f34c711c048>"
            ]
          },
          "metadata": {
            "tags": []
          },
          "execution_count": 119
        },
        {
          "output_type": "display_data",
          "data": {
            "image/png": "[encoded data removed]",
            "text/plain": [
              "<Figure size 720x504 with 2 Axes>"
            ]
          },
          "metadata": {
            "tags": []
          }
        }
      ]
    },
    {
      "cell_type": "code",
      "metadata": {
        "colab_type": "code",
        "id": "gDTdIAehBGDt",
        "colab": {}
      },
      "source": [
        "# Getting the roc\n",
        "import sklearn.metrics as metrics\n",
        "fpr,tpr,threshold=metrics.roc_curve(y_test,y_pred)\n",
        "roc_auc=metrics.auc(fpr,tpr)"
      ],
      "execution_count": null,
      "outputs": []
    },
    {
      "cell_type": "code",
      "metadata": {
        "colab_type": "code",
        "id": "c4nBuH2jBGDw",
        "colab": {
          "base_uri": "https://localhost:8080/",
          "height": 332
        },
        "outputId": "0d706e07-f309-4a7a-e587-cf5adfdc3516"
      },
      "source": [
        "# Plotting the roc-auc curve\n",
        "import matplotlib.pyplot as plt\n",
        "plt.title(\"roc\")\n",
        "plt.plot(fpr,tpr,'b',label=\"auc=%0.2f\"%roc_auc)\n",
        "plt.legend(loc=\"lower right\")\n",
        "plt.plot([0,1],[0,1],\"r--\")\n",
        "plt.xlim([0,1])\n",
        "plt.ylim([0,1])\n",
        "plt.ylabel(\"tpr\")\n",
        "plt.xlabel(\"fpr\")"
      ],
      "execution_count": null,
      "outputs": [
        {
          "output_type": "execute_result",
          "data": {
            "text/plain": [
              "Text(0.5, 0, 'fpr')"
            ]
          },
          "metadata": {
            "tags": []
          },
          "execution_count": 121
        },
        {
          "output_type": "display_data",
          "data": {
            "image/png": "[encoded data removed]",
            "text/plain": [
              "<Figure size 432x288 with 1 Axes>"
            ]
          },
          "metadata": {
            "tags": []
          }
        }
      ]
    },
    {
      "cell_type": "markdown",
      "metadata": {
        "id": "o7VKXMBTb0nC",
        "colab_type": "text"
      },
      "source": [
        "# Saving Model"
      ]
    },
    {
      "cell_type": "code",
      "metadata": {
        "id": "XL35leRk6M17",
        "colab_type": "code",
        "colab": {}
      },
      "source": [
        "# Exporting model\n",
        "import pickle\n",
        "pickle.dump(dtc,open('model.pkl','wb'))"
      ],
      "execution_count": null,
      "outputs": []
    },
    {
      "cell_type": "code",
      "metadata": {
        "id": "D-OddvcF6M19",
        "colab_type": "code",
        "colab": {
          "base_uri": "https://localhost:8080/",
          "height": 34
        },
        "outputId": "03a9335b-04c7-4c3f-de03-435199a80496"
      },
      "source": [
        "# Import & Predict\n",
        "model=pickle.load(open('model.pkl','rb'))\n",
        "model.predict(sc.fit_transform([[1,34,1900]]))"
      ],
      "execution_count": null,
      "outputs": [
        {
          "output_type": "execute_result",
          "data": {
            "text/plain": [
              "array([1])"
            ]
          },
          "metadata": {
            "tags": []
          },
          "execution_count": 123
        }
      ]
    }
  ]
}